{
 "cells": [
  {
   "cell_type": "markdown",
   "metadata": {
    "Collapsed": "false"
   },
   "source": [
    "# Data generation notebook\n",
    "\n",
    "Processing and generating data files for easier use"
   ]
  },
  {
   "cell_type": "code",
   "execution_count": 1,
   "metadata": {
    "Collapsed": "false"
   },
   "outputs": [],
   "source": [
    "import pandas as pd\n",
    "import pycountry_convert as pc"
   ]
  },
  {
   "cell_type": "markdown",
   "metadata": {
    "Collapsed": "false"
   },
   "source": [
    "## Load data"
   ]
  },
  {
   "cell_type": "code",
   "execution_count": 2,
   "metadata": {
    "Collapsed": "false"
   },
   "outputs": [],
   "source": [
    "data_frames = {\n",
    "    'confirmed':  pd.read_csv('https://raw.githubusercontent.com/CSSEGISandData/COVID-19/master/csse_covid_19_data/csse_covid_19_time_series/time_series_covid19_confirmed_global.csv'),\n",
    "    'deaths': pd.read_csv('https://raw.githubusercontent.com/CSSEGISandData/COVID-19/master/csse_covid_19_data/csse_covid_19_time_series/time_series_covid19_deaths_global.csv'),\n",
    "    'recovered': pd.read_csv('https://raw.githubusercontent.com/CSSEGISandData/COVID-19/master/csse_covid_19_data/csse_covid_19_time_series/time_series_covid19_recovered_global.csv')\n",
    "}"
   ]
  },
  {
   "cell_type": "markdown",
   "metadata": {
    "Collapsed": "false"
   },
   "source": [
    "## Remove cruises"
   ]
  },
  {
   "cell_type": "code",
   "execution_count": 3,
   "metadata": {
    "Collapsed": "false"
   },
   "outputs": [],
   "source": [
    "for key in data_frames.keys():\n",
    "    df = data_frames[key]\n",
    "    \n",
    "    df = df[df['Country/Region'] != 'Diamond Princess']\n",
    "    df = df[df['Country/Region'] != 'MS Zaandam']\n",
    "    \n",
    "    data_frames[key] = df"
   ]
  },
  {
   "cell_type": "markdown",
   "metadata": {
    "Collapsed": "false"
   },
   "source": [
    "## Rename countries"
   ]
  },
  {
   "cell_type": "code",
   "execution_count": 4,
   "metadata": {
    "Collapsed": "false"
   },
   "outputs": [],
   "source": [
    "for key in data_frames.keys():\n",
    "    df = data_frames[key]\n",
    "    \n",
    "    df = df.replace(\"Cote d'Ivoire\", 'Ivory Coast')\n",
    "    df = df.replace(\"Cabo Verde\", 'Cape Verde')\n",
    "    df = df.replace(\"Congo (Brazzaville)\", 'Congo')\n",
    "    df = df.replace(\"Congo (Kinshasa)\", 'Democratic Republic of the Congo')\n",
    "    df = df.replace(\"Czechia\", 'Czech Republic')\n",
    "    df = df.replace(\"Holy See\", 'Vatican City')\n",
    "    df = df.replace(\"Korea, South\", 'South Korea')\n",
    "    df = df.replace(\"Taiwan*\", 'Taiwan')\n",
    "    df = df.replace(\"US\", 'United States')\n",
    "    df = df.replace(\"West Bank and Gaza\", 'State of Palestine')\n",
    "    df = df.replace(\"Burma\", 'Myanmar')\n",
    "    \n",
    "    data_frames[key] = df"
   ]
  },
  {
   "cell_type": "markdown",
   "metadata": {
    "Collapsed": "false"
   },
   "source": [
    "## Separate 'countries' such as Greenland"
   ]
  },
  {
   "cell_type": "code",
   "execution_count": 5,
   "metadata": {
    "Collapsed": "false"
   },
   "outputs": [],
   "source": [
    "for key in data_frames.keys():\n",
    "    df = data_frames[key]\n",
    "    \n",
    "    regions = ['Greenland', 'French Guiana']\n",
    "    \n",
    "    for region in regions:\n",
    "        df.loc[df['Province/State'] == region, 'Country/Region'] = region\n",
    "        \n",
    "    data_frames[key] = df"
   ]
  },
  {
   "cell_type": "markdown",
   "metadata": {
    "Collapsed": "false"
   },
   "source": [
    "## Group by country"
   ]
  },
  {
   "cell_type": "code",
   "execution_count": 6,
   "metadata": {
    "Collapsed": "false"
   },
   "outputs": [],
   "source": [
    "for key in data_frames.keys():\n",
    "    df = data_frames[key]\n",
    "    df = df.drop(columns='Province/State')\n",
    "    \n",
    "    # Compute average of Lat and Long\n",
    "    agg_dict = {'Lat': 'mean',\n",
    "                'Long': 'mean'}\n",
    "    \n",
    "    # Sum the rest of the columns\n",
    "    for column in df.columns[3:]:\n",
    "        agg_dict[column] = 'sum'\n",
    "    \n",
    "    data_frames[key] = df.groupby('Country/Region').agg(agg_dict).reset_index()"
   ]
  },
  {
   "cell_type": "markdown",
   "metadata": {
    "Collapsed": "false"
   },
   "source": [
    "## Reformat dates"
   ]
  },
  {
   "cell_type": "code",
   "execution_count": 7,
   "metadata": {
    "Collapsed": "false"
   },
   "outputs": [],
   "source": [
    "for key in data_frames.keys():\n",
    "    df = data_frames[key]\n",
    "    dates = [x.strftime(\"%Y-%m-%d\") for x in pd.to_datetime(df.columns[3:])]\n",
    "    df.columns = list(df.columns[:3]) + dates"
   ]
  },
  {
   "cell_type": "markdown",
   "metadata": {
    "Collapsed": "false"
   },
   "source": [
    "## Add world population column"
   ]
  },
  {
   "cell_type": "code",
   "execution_count": 8,
   "metadata": {
    "Collapsed": "false"
   },
   "outputs": [],
   "source": [
    "population_df = pd.read_csv('generated/population.csv')\n",
    "\n",
    "for key in data_frames.keys():\n",
    "    df = data_frames[key]\n",
    "    \n",
    "    df = df.merge(population_df, how='left', left_on='Country/Region', right_on='name')\n",
    "    df = df.drop(columns='name')\n",
    "    \n",
    "    # Reorder columns\n",
    "    df = df[['Country/Region', 'population'] + list(df.columns[1:-1])]\n",
    "    df = df.copy()\n",
    "    \n",
    "    data_frames[key] = df"
   ]
  },
  {
   "cell_type": "markdown",
   "metadata": {
    "Collapsed": "false"
   },
   "source": [
    "## Add sick dataset (confirmed - recovered)"
   ]
  },
  {
   "cell_type": "code",
   "execution_count": 9,
   "metadata": {
    "Collapsed": "false"
   },
   "outputs": [],
   "source": [
    "confirmed = data_frames['confirmed']\n",
    "recovered = data_frames['recovered']\n",
    "# Check that the countries are in the same order\n",
    "assert((confirmed.loc[:, 'Country/Region'] != recovered.loc[:, 'Country/Region']).sum() == 0)\n",
    "\n",
    "sick = confirmed.copy()\n",
    "sick.loc[:, sick.columns[4:]] = confirmed.loc[:, sick.columns[4:]] - recovered.loc[:, sick.columns[4:]]\n",
    "data_frames['sick'] = sick"
   ]
  },
  {
   "cell_type": "markdown",
   "metadata": {
    "Collapsed": "false"
   },
   "source": [
    "## Add world and continents rows"
   ]
  },
  {
   "cell_type": "code",
   "execution_count": 10,
   "metadata": {
    "Collapsed": "false"
   },
   "outputs": [],
   "source": [
    "# Continents code to name\n",
    "continents = {\n",
    "    'AF': 'Africa',\n",
    "    'AS': 'Asia',\n",
    "    'EU': 'Europe',\n",
    "    'NA': 'North America',\n",
    "    'OC': 'Australia',\n",
    "    'SA': 'South America'\n",
    "}\n",
    "\n",
    "def country_to_continent(country):\n",
    "    \"\"\"\n",
    "    From country name get continent name\n",
    "    \"\"\"\n",
    "    try:\n",
    "        country_code = pc.country_name_to_country_alpha2(country)\n",
    "        continent = pc.country_alpha2_to_continent_code(country_code)\n",
    "        return continents[continent]\n",
    "    except:\n",
    "        # Country unknown for pycountry -> by hand\n",
    "        if country == 'Kosovo':\n",
    "            return 'Europe'\n",
    "        elif country == 'State of Palestine':\n",
    "            return 'Asia'\n",
    "        elif country == 'Timor-Leste':\n",
    "            return 'Asia'\n",
    "        elif country == 'Vatican City':\n",
    "            return 'Europe'\n",
    "        elif country == 'Western Sahara':\n",
    "            return 'Africa'\n",
    "        else:\n",
    "            print(f\"Unkown country continent: {country}\")\n",
    "            raise ValueError\n",
    "\n",
    "            \n",
    "for key in data_frames.keys():\n",
    "    df = data_frames[key].copy()\n",
    "    \n",
    "    # Compute world aggregation\n",
    "    world = pd.Series(df.loc[0, :])\n",
    "    world['Country/Region'] = \"World\"\n",
    "    world['population'] = df['population'].sum()\n",
    "    world['Lat'] = 0\n",
    "    world['Long'] = 0\n",
    "    world.loc[world.index[4:]] = df.loc[:, df.columns[4:]].sum()\n",
    "    world = pd.DataFrame(world).T\n",
    "    \n",
    "    # Compute continents aggregation\n",
    "    df['Country/Region'] = df['Country/Region'].apply(country_to_continent)\n",
    "    \n",
    "    # Aggregation dict\n",
    "    agg_dict = {'population': 'sum',\n",
    "                'Lat': 'mean',\n",
    "                'Long': 'mean'}\n",
    "    \n",
    "    # Sum the rest of the columns\n",
    "    for column in df.columns[4:]:\n",
    "        agg_dict[column] = 'sum'\n",
    "    \n",
    "    df = df.groupby('Country/Region').agg(agg_dict).reset_index()\n",
    "    \n",
    "    # Concat world, continents and countries\n",
    "    df = pd.concat([world, df, data_frames[key]]).reset_index(drop=True)\n",
    "    data_frames[key] = df"
   ]
  },
  {
   "cell_type": "markdown",
   "metadata": {
    "Collapsed": "false"
   },
   "source": [
    "## Write back data"
   ]
  },
  {
   "cell_type": "code",
   "execution_count": 11,
   "metadata": {
    "Collapsed": "false"
   },
   "outputs": [],
   "source": [
    "for key in data_frames.keys():\n",
    "    data_frames[key].to_csv(f'generated/{key}.csv', index=False)"
   ]
  }
 ],
 "metadata": {
  "kernelspec": {
   "display_name": "Python 3",
   "language": "python",
   "name": "python3"
  },
  "language_info": {
   "codemirror_mode": {
    "name": "ipython",
    "version": 3
   },
   "file_extension": ".py",
   "mimetype": "text/x-python",
   "name": "python",
   "nbconvert_exporter": "python",
   "pygments_lexer": "ipython3",
   "version": "3.8.2"
  }
 },
 "nbformat": 4,
 "nbformat_minor": 4
}
