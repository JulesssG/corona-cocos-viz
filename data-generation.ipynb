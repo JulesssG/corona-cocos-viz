{
 "cells": [
  {
   "cell_type": "markdown",
   "metadata": {
    "Collapsed": "false"
   },
   "source": [
    "# Data generation notebook\n",
    "\n",
    "Processing and generating data files for easier use"
   ]
  },
  {
   "cell_type": "code",
   "execution_count": 31,
   "metadata": {
    "Collapsed": "false"
   },
   "outputs": [],
   "source": [
    "import pandas as pd\n",
    "import pycountry_convert as pc\n",
    "import numpy as np\n",
    "import warnings\n",
    "warnings.filterwarnings('ignore')"
   ]
  },
  {
   "cell_type": "markdown",
   "metadata": {
    "Collapsed": "false"
   },
   "source": [
    "## Load data"
   ]
  },
  {
   "cell_type": "code",
   "execution_count": 32,
   "metadata": {
    "Collapsed": "false"
   },
   "outputs": [],
   "source": [
    "data_frames = {\n",
    "    'confirmed':  pd.read_csv('https://raw.githubusercontent.com/CSSEGISandData/COVID-19/master/csse_covid_19_data/csse_covid_19_time_series/time_series_covid19_confirmed_global.csv'),\n",
    "    'deaths': pd.read_csv('https://raw.githubusercontent.com/CSSEGISandData/COVID-19/master/csse_covid_19_data/csse_covid_19_time_series/time_series_covid19_deaths_global.csv'),\n",
    "    'recovered': pd.read_csv('https://raw.githubusercontent.com/CSSEGISandData/COVID-19/master/csse_covid_19_data/csse_covid_19_time_series/time_series_covid19_recovered_global.csv')\n",
    "}"
   ]
  },
  {
   "cell_type": "markdown",
   "metadata": {
    "Collapsed": "false"
   },
   "source": [
    "## Remove cruises"
   ]
  },
  {
   "cell_type": "code",
   "execution_count": 33,
   "metadata": {
    "Collapsed": "false"
   },
   "outputs": [],
   "source": [
    "for key in data_frames.keys():\n",
    "    df = data_frames[key]\n",
    "    \n",
    "    df = df[df['Country/Region'] != 'Diamond Princess']\n",
    "    df = df[df['Country/Region'] != 'MS Zaandam']\n",
    "    \n",
    "    data_frames[key] = df"
   ]
  },
  {
   "cell_type": "markdown",
   "metadata": {
    "Collapsed": "false"
   },
   "source": [
    "## Rename countries"
   ]
  },
  {
   "cell_type": "code",
   "execution_count": 34,
   "metadata": {
    "Collapsed": "false"
   },
   "outputs": [],
   "source": [
    "for key in data_frames.keys():\n",
    "    df = data_frames[key]\n",
    "    \n",
    "    df = df.replace(\"Cote d'Ivoire\", 'Ivory Coast')\n",
    "    df = df.replace(\"Cabo Verde\", 'Cape Verde')\n",
    "    df = df.replace(\"Congo (Brazzaville)\", 'Congo')\n",
    "    df = df.replace(\"Congo (Kinshasa)\", 'Democratic Republic of the Congo')\n",
    "    df = df.replace(\"Czechia\", 'Czech Republic')\n",
    "    df = df.replace(\"Holy See\", 'Vatican City')\n",
    "    df = df.replace(\"Korea, South\", 'South Korea')\n",
    "    df = df.replace(\"Taiwan*\", 'Taiwan')\n",
    "    df = df.replace(\"US\", 'United States')\n",
    "    df = df.replace(\"West Bank and Gaza\", 'State of Palestine')\n",
    "    df = df.replace(\"Burma\", 'Myanmar')\n",
    "    \n",
    "    data_frames[key] = df"
   ]
  },
  {
   "cell_type": "markdown",
   "metadata": {
    "Collapsed": "false"
   },
   "source": [
    "## Separate 'countries' such as Greenland"
   ]
  },
  {
   "cell_type": "code",
   "execution_count": 35,
   "metadata": {
    "Collapsed": "false"
   },
   "outputs": [],
   "source": [
    "for key in data_frames.keys():\n",
    "    df = data_frames[key]\n",
    "    \n",
    "    regions = ['Greenland', 'French Guiana', 'Falkland Islands (Malvinas)', 'New Caledonia']\n",
    "    \n",
    "    for region in regions:\n",
    "        df.loc[df['Province/State'] == region, 'Country/Region'] = region\n",
    "        \n",
    "    data_frames[key] = df"
   ]
  },
  {
   "cell_type": "markdown",
   "metadata": {
    "Collapsed": "false"
   },
   "source": [
    "## Group by country"
   ]
  },
  {
   "cell_type": "code",
   "execution_count": 36,
   "metadata": {
    "Collapsed": "false"
   },
   "outputs": [],
   "source": [
    "for key in data_frames.keys():\n",
    "    df = data_frames[key]\n",
    "    df = df.drop(columns='Province/State')\n",
    "    \n",
    "    # Compute average of Lat and Long\n",
    "    agg_dict = {'Lat': 'mean',\n",
    "                'Long': 'mean'}\n",
    "    \n",
    "    # Sum the rest of the columns\n",
    "    for column in df.columns[3:]:\n",
    "        agg_dict[column] = 'sum'\n",
    "    \n",
    "    data_frames[key] = df.groupby('Country/Region').agg(agg_dict).reset_index()"
   ]
  },
  {
   "cell_type": "markdown",
   "metadata": {
    "Collapsed": "false"
   },
   "source": [
    "## Reformat dates"
   ]
  },
  {
   "cell_type": "code",
   "execution_count": 37,
   "metadata": {
    "Collapsed": "false"
   },
   "outputs": [],
   "source": [
    "for key in data_frames.keys():\n",
    "    df = data_frames[key]\n",
    "    dates = [x.strftime(\"%Y-%m-%d\") for x in pd.to_datetime(df.columns[3:])]\n",
    "    df.columns = list(df.columns[:3]) + dates"
   ]
  },
  {
   "cell_type": "markdown",
   "metadata": {
    "Collapsed": "false"
   },
   "source": [
    "## Add world population column"
   ]
  },
  {
   "cell_type": "code",
   "execution_count": 38,
   "metadata": {
    "Collapsed": "false"
   },
   "outputs": [],
   "source": [
    "population_df = pd.read_csv('generated/population.csv')\n",
    "\n",
    "for key in data_frames.keys():\n",
    "    df = data_frames[key]\n",
    "    \n",
    "    df = df.merge(population_df, how='left', left_on='Country/Region', right_on='name')\n",
    "    df = df.drop(columns='name')\n",
    "    \n",
    "    # Reorder columns\n",
    "    df = df[['Country/Region', 'population'] + list(df.columns[1:-1])]\n",
    "    df = df.copy()\n",
    "    \n",
    "    data_frames[key] = df"
   ]
  },
  {
   "cell_type": "markdown",
   "metadata": {
    "Collapsed": "false"
   },
   "source": [
    "## Add sick dataset (confirmed - recovered)"
   ]
  },
  {
   "cell_type": "code",
   "execution_count": 39,
   "metadata": {
    "Collapsed": "false"
   },
   "outputs": [],
   "source": [
    "confirmed = data_frames['confirmed']\n",
    "recovered = data_frames['recovered']\n",
    "# Check that the countries are in the same order\n",
    "assert((confirmed.loc[:, 'Country/Region'] != recovered.loc[:, 'Country/Region']).sum() == 0)\n",
    "\n",
    "sick = confirmed.copy()\n",
    "sick.loc[:, sick.columns[4:]] = confirmed.loc[:, sick.columns[4:]] - recovered.loc[:, sick.columns[4:]]\n",
    "data_frames['sick'] = sick"
   ]
  },
  {
   "cell_type": "markdown",
   "metadata": {
    "Collapsed": "false"
   },
   "source": [
    "## Add daily dataset (number of confirmed cases for each day)"
   ]
  },
  {
   "cell_type": "code",
   "execution_count": 40,
   "metadata": {
    "Collapsed": "false"
   },
   "outputs": [],
   "source": [
    "daily = data_frames['confirmed'].copy()\n",
    "\n",
    "days = daily.loc[:, daily.columns[5:]]\n",
    "shifted_days = daily.loc[:, daily.columns[4:-1]]\n",
    "shifted_days.columns = days.columns\n",
    "\n",
    "daily.loc[:, daily.columns[5:]] = days - shifted_days\n",
    "data_frames['daily'] = daily"
   ]
  },
  {
   "cell_type": "markdown",
   "metadata": {
    "Collapsed": "false"
   },
   "source": [
    "## Add world and continents rows"
   ]
  },
  {
   "cell_type": "code",
   "execution_count": 41,
   "metadata": {
    "Collapsed": "false"
   },
   "outputs": [],
   "source": [
    "# Continents code to name\n",
    "continents = {\n",
    "    'AF': 'Africa',\n",
    "    'AS': 'Asia',\n",
    "    'EU': 'Europe',\n",
    "    'NA': 'North America',\n",
    "    'OC': 'Oceania',\n",
    "    'SA': 'South America'\n",
    "}\n",
    "\n",
    "def country_to_continent(country):\n",
    "    \"\"\"\n",
    "    From country name get continent name\n",
    "    \"\"\"\n",
    "    try:\n",
    "        country_code = pc.country_name_to_country_alpha2(country)\n",
    "        continent = pc.country_alpha2_to_continent_code(country_code)\n",
    "        return continents[continent]\n",
    "    except:\n",
    "        # Country unknown for pycountry -> by hand\n",
    "        if country == 'Kosovo':\n",
    "            return 'Europe'\n",
    "        elif country == 'State of Palestine':\n",
    "            return 'Asia'\n",
    "        elif country == 'Timor-Leste':\n",
    "            return 'Asia'\n",
    "        elif country == 'Vatican City':\n",
    "            return 'Europe'\n",
    "        elif country == 'Western Sahara':\n",
    "            return 'Africa'\n",
    "        else:\n",
    "            print(f\"Unkown country continent: {country}\")\n",
    "            raise ValueError\n",
    "\n",
    "            \n",
    "for key in data_frames.keys():\n",
    "    df = data_frames[key].copy()\n",
    "    \n",
    "    # Compute world aggregation\n",
    "    world = pd.Series(df.loc[0, :])\n",
    "    world['Country/Region'] = \"World\"\n",
    "    world['population'] = df['population'].sum()\n",
    "    world['Lat'] = 0\n",
    "    world['Long'] = 0\n",
    "    world.loc[world.index[4:]] = df.loc[:, df.columns[4:]].sum()\n",
    "    world = pd.DataFrame(world).T\n",
    "    \n",
    "    # Compute continents aggregation\n",
    "    df['Country/Region'] = df['Country/Region'].apply(country_to_continent)\n",
    "    \n",
    "    # Aggregation dict\n",
    "    agg_dict = {'population': 'sum',\n",
    "                'Lat': 'mean',\n",
    "                'Long': 'mean'}\n",
    "    \n",
    "    # Sum the rest of the columns\n",
    "    for column in df.columns[4:]:\n",
    "        agg_dict[column] = 'sum'\n",
    "    \n",
    "    df = df.groupby('Country/Region').agg(agg_dict).reset_index()\n",
    "    \n",
    "    # Concat world, continents and countries\n",
    "    df = pd.concat([world, df, data_frames[key]]).reset_index(drop=True)\n",
    "    data_frames[key] = df"
   ]
  },
  {
   "cell_type": "markdown",
   "metadata": {
    "Collapsed": "false"
   },
   "source": [
    "## Write back data"
   ]
  },
  {
   "cell_type": "code",
   "execution_count": 42,
   "metadata": {
    "Collapsed": "false"
   },
   "outputs": [],
   "source": [
    "for key in data_frames.keys():\n",
    "    data_frames[key].to_csv(f'generated/{key}.csv', index=False)"
   ]
  },
  {
   "cell_type": "markdown",
   "metadata": {
    "Collapsed": "false"
   },
   "source": [
    "## Governments measures generation"
   ]
  },
  {
   "cell_type": "code",
   "execution_count": 49,
   "metadata": {
    "Collapsed": "false"
   },
   "outputs": [],
   "source": [
    "from urllib.request import urlopen\n",
    "try:\n",
    "    _ = urlopen('https://www.acaps.org/sites/acaps/files/resources/files/acaps_covid19_government_measures_dataset.xlsx')\n",
    "    url = 'https://www.acaps.org/sites/acaps/files/resources/files/acaps_covid19_government_measures_dataset.xlsx'\n",
    "except:\n",
    "    _ = urlopen('https://www.acaps.org/sites/acaps/files/resources/files/acaps_covid19_government_measures_dataset_0.xlsx')\n",
    "    url = 'https://www.acaps.org/sites/acaps/files/resources/files/acaps_covid19_government_measures_dataset_0.xlsx'\n",
    "\n",
    "sheets = pd.ExcelFile(url).sheet_names\n",
    "ind = np.where(['data' in sheet.lower() for sheet in sheets])[0][0]\n",
    "data_full = pd.read_excel(url, sheet_name=sheets[ind])\n",
    "\n",
    "data_full.columns = [s.strip('_') for s in data_full.columns]\n",
    "\n",
    "data_full.loc[data_full['DATE_IMPLEMENTED'].isna(), 'DATE_IMPLEMENTED'] = data_full.loc[data_full['DATE_IMPLEMENTED'].isna(), 'ENTRY_DATE']"
   ]
  },
  {
   "cell_type": "code",
   "execution_count": 50,
   "metadata": {
    "Collapsed": "false"
   },
   "outputs": [
    {
     "data": {
      "text/html": [
       "<div>\n",
       "<style scoped>\n",
       "    .dataframe tbody tr th:only-of-type {\n",
       "        vertical-align: middle;\n",
       "    }\n",
       "\n",
       "    .dataframe tbody tr th {\n",
       "        vertical-align: top;\n",
       "    }\n",
       "\n",
       "    .dataframe thead th {\n",
       "        text-align: right;\n",
       "    }\n",
       "</style>\n",
       "<table border=\"1\" class=\"dataframe\">\n",
       "  <thead>\n",
       "    <tr style=\"text-align: right;\">\n",
       "      <th></th>\n",
       "      <th>COUNTRY</th>\n",
       "      <th>LOG_TYPE</th>\n",
       "      <th>CATEGORY</th>\n",
       "      <th>MEASURE</th>\n",
       "      <th>COMMENTS</th>\n",
       "      <th>DATE_IMPLEMENTED</th>\n",
       "    </tr>\n",
       "  </thead>\n",
       "  <tbody>\n",
       "    <tr>\n",
       "      <th>0</th>\n",
       "      <td>Afghanistan</td>\n",
       "      <td>Introduction / extension of measures</td>\n",
       "      <td>Public health measures</td>\n",
       "      <td>Health screenings in airports and border cross...</td>\n",
       "      <td>NaN</td>\n",
       "      <td>2020-02-12</td>\n",
       "    </tr>\n",
       "    <tr>\n",
       "      <th>1</th>\n",
       "      <td>Afghanistan</td>\n",
       "      <td>Introduction / extension of measures</td>\n",
       "      <td>Public health measures</td>\n",
       "      <td>Isolation and quarantine policies</td>\n",
       "      <td>NaN</td>\n",
       "      <td>2020-02-12</td>\n",
       "    </tr>\n",
       "    <tr>\n",
       "      <th>2</th>\n",
       "      <td>Afghanistan</td>\n",
       "      <td>Introduction / extension of measures</td>\n",
       "      <td>Public health measures</td>\n",
       "      <td>Awareness campaigns</td>\n",
       "      <td>NaN</td>\n",
       "      <td>2020-02-12</td>\n",
       "    </tr>\n",
       "    <tr>\n",
       "      <th>3</th>\n",
       "      <td>Afghanistan</td>\n",
       "      <td>Introduction / extension of measures</td>\n",
       "      <td>Governance and socio-economic measures</td>\n",
       "      <td>Emergency administrative structures activated ...</td>\n",
       "      <td>NaN</td>\n",
       "      <td>2020-02-12</td>\n",
       "    </tr>\n",
       "    <tr>\n",
       "      <th>4</th>\n",
       "      <td>Afghanistan</td>\n",
       "      <td>Introduction / extension of measures</td>\n",
       "      <td>Social distancing</td>\n",
       "      <td>Limit public gatherings</td>\n",
       "      <td>Nevruz festival cancelled</td>\n",
       "      <td>2020-03-12</td>\n",
       "    </tr>\n",
       "    <tr>\n",
       "      <th>...</th>\n",
       "      <td>...</td>\n",
       "      <td>...</td>\n",
       "      <td>...</td>\n",
       "      <td>...</td>\n",
       "      <td>...</td>\n",
       "      <td>...</td>\n",
       "    </tr>\n",
       "    <tr>\n",
       "      <th>17872</th>\n",
       "      <td>Zimbabwe</td>\n",
       "      <td>Introduction / extension of measures</td>\n",
       "      <td>Movement restrictions</td>\n",
       "      <td>Surveillance and monitoring</td>\n",
       "      <td>Everyone transiting through Zimbabwe should ha...</td>\n",
       "      <td>2020-06-09</td>\n",
       "    </tr>\n",
       "    <tr>\n",
       "      <th>17873</th>\n",
       "      <td>Zimbabwe</td>\n",
       "      <td>Phase-out measure</td>\n",
       "      <td>Social distancing</td>\n",
       "      <td>Schools closure</td>\n",
       "      <td>the re-opening of schools be moved from the pr...</td>\n",
       "      <td>2020-07-28</td>\n",
       "    </tr>\n",
       "    <tr>\n",
       "      <th>17874</th>\n",
       "      <td>Zimbabwe</td>\n",
       "      <td>Introduction / extension of measures</td>\n",
       "      <td>Movement restrictions</td>\n",
       "      <td>Surveillance and monitoring</td>\n",
       "      <td>Identification/travel documents of returness w...</td>\n",
       "      <td>2020-06-09</td>\n",
       "    </tr>\n",
       "    <tr>\n",
       "      <th>17875</th>\n",
       "      <td>Zimbabwe</td>\n",
       "      <td>Phase-out measure</td>\n",
       "      <td>Social distancing</td>\n",
       "      <td>Closure of businesses and public services</td>\n",
       "      <td>Restaurants now allowed to serve sit-in meals ...</td>\n",
       "      <td>2020-06-30</td>\n",
       "    </tr>\n",
       "    <tr>\n",
       "      <th>17876</th>\n",
       "      <td>Zimbabwe</td>\n",
       "      <td>Phase-out measure</td>\n",
       "      <td>Social distancing</td>\n",
       "      <td>Closure of businesses and public services</td>\n",
       "      <td>Safari Operators for local hunting only and Na...</td>\n",
       "      <td>2020-06-30</td>\n",
       "    </tr>\n",
       "  </tbody>\n",
       "</table>\n",
       "<p>17877 rows × 6 columns</p>\n",
       "</div>"
      ],
      "text/plain": [
       "           COUNTRY                              LOG_TYPE  \\\n",
       "0      Afghanistan  Introduction / extension of measures   \n",
       "1      Afghanistan  Introduction / extension of measures   \n",
       "2      Afghanistan  Introduction / extension of measures   \n",
       "3      Afghanistan  Introduction / extension of measures   \n",
       "4      Afghanistan  Introduction / extension of measures   \n",
       "...            ...                                   ...   \n",
       "17872     Zimbabwe  Introduction / extension of measures   \n",
       "17873     Zimbabwe                     Phase-out measure   \n",
       "17874     Zimbabwe  Introduction / extension of measures   \n",
       "17875     Zimbabwe                     Phase-out measure   \n",
       "17876     Zimbabwe                     Phase-out measure   \n",
       "\n",
       "                                     CATEGORY  \\\n",
       "0                      Public health measures   \n",
       "1                      Public health measures   \n",
       "2                      Public health measures   \n",
       "3      Governance and socio-economic measures   \n",
       "4                           Social distancing   \n",
       "...                                       ...   \n",
       "17872                   Movement restrictions   \n",
       "17873                       Social distancing   \n",
       "17874                   Movement restrictions   \n",
       "17875                       Social distancing   \n",
       "17876                       Social distancing   \n",
       "\n",
       "                                                 MEASURE  \\\n",
       "0      Health screenings in airports and border cross...   \n",
       "1                      Isolation and quarantine policies   \n",
       "2                                    Awareness campaigns   \n",
       "3      Emergency administrative structures activated ...   \n",
       "4                                Limit public gatherings   \n",
       "...                                                  ...   \n",
       "17872                        Surveillance and monitoring   \n",
       "17873                                    Schools closure   \n",
       "17874                        Surveillance and monitoring   \n",
       "17875          Closure of businesses and public services   \n",
       "17876          Closure of businesses and public services   \n",
       "\n",
       "                                                COMMENTS DATE_IMPLEMENTED  \n",
       "0                                                    NaN       2020-02-12  \n",
       "1                                                    NaN       2020-02-12  \n",
       "2                                                    NaN       2020-02-12  \n",
       "3                                                    NaN       2020-02-12  \n",
       "4                              Nevruz festival cancelled       2020-03-12  \n",
       "...                                                  ...              ...  \n",
       "17872  Everyone transiting through Zimbabwe should ha...       2020-06-09  \n",
       "17873  the re-opening of schools be moved from the pr...       2020-07-28  \n",
       "17874  Identification/travel documents of returness w...       2020-06-09  \n",
       "17875  Restaurants now allowed to serve sit-in meals ...       2020-06-30  \n",
       "17876  Safari Operators for local hunting only and Na...       2020-06-30  \n",
       "\n",
       "[17877 rows x 6 columns]"
      ]
     },
     "execution_count": 50,
     "metadata": {},
     "output_type": "execute_result"
    }
   ],
   "source": [
    "data = data_full[['COUNTRY', 'LOG_TYPE', 'CATEGORY', 'MEASURE', 'COMMENTS', 'DATE_IMPLEMENTED']]\n",
    "data['MEASURE'] = data['MEASURE'].str.replace('\\xa0', '')\n",
    "data"
   ]
  },
  {
   "cell_type": "markdown",
   "metadata": {
    "Collapsed": "false"
   },
   "source": [
    "Match the countries, delete the countries that are not in our dataset on corona cases"
   ]
  },
  {
   "cell_type": "code",
   "execution_count": 64,
   "metadata": {
    "Collapsed": "false"
   },
   "outputs": [
    {
     "name": "stdout",
     "output_type": "stream",
     "text": [
      "Number of incorrectly named countries relative to original dataset: 0\n"
     ]
    }
   ],
   "source": [
    "original = pd.read_csv('generated/confirmed.csv')\n",
    "\n",
    "country_matching = {'Viet Nam': 'Vietnam',\n",
    "                   'United States of America': 'United States',\n",
    "                   'Russian Federation': 'Russia',\n",
    "                   'Palestine': 'State of Palestine',\n",
    "                   'North Macedonia Republic Of': 'North Macedonia',\n",
    "                   'Moldova Republic Of': 'Moldova',\n",
    "                   'Moldova Republic of': 'Moldova',\n",
    "                   'Lao PDR': 'Laos',\n",
    "                   'Korea Republic of': 'South Korea',\n",
    "                   'kenya': 'Kenya',\n",
    "                   'Czech republic': 'Czech Republic',\n",
    "                   \"Côte d'Ivoire\": 'Ivory Coast',\n",
    "                   'Cabo Verde': 'Cape Verde',\n",
    "                   'Brunei Darussalam': 'Brunei',\n",
    "                   'Congo DR': 'Democratic Republic of the Congo'}\n",
    "\n",
    "others = ['Turkmenistan', 'Vanuatu', 'Tuvalu', 'Tonga', 'Tajikistan', 'Solomon Islands', \n",
    "          'Samoa', 'Palau', 'Nauru', 'Micronesia', 'Marshall Islands', 'Lesotho', 'Korea DPR',\n",
    "          'Kiribati', 'Comoros', 'China, Hong Kong Special Administrative Region']\n",
    "\n",
    "# Delete countries present in measure dataset without match in original (manual)\n",
    "data = data.loc[~data['COUNTRY'].isin(others), :]\n",
    "\n",
    "# Delete countries present in measure dataset without match in original (automatic)\n",
    "# Can check in countries_without_match_df to see if it's possible to match more countries\n",
    "data['COUNTRY'] = data['COUNTRY'].replace(country_matching)\n",
    "countries_without_match_df = (data[['COUNTRY']].drop_duplicates()\n",
    "                              .merge(original[['Country/Region']], \n",
    "                                     how='outer', \n",
    "                                     left_on='COUNTRY', \n",
    "                                     right_on='Country/Region'))\n",
    "countries_without_match = countries_without_match_df.loc[countries_without_match_df['Country/Region'].isna(), \n",
    "                                                         'COUNTRY']\n",
    "data = data.loc[~data['COUNTRY'].isin(countries_without_match)]\n",
    "\n",
    "# Double check\n",
    "check_match = (data[['COUNTRY']].drop_duplicates()\n",
    "               .merge(original[['Country/Region']], \n",
    "                      how='outer', \n",
    "                      left_on='COUNTRY', \n",
    "                      right_on='Country/Region')['Country/Region'].isna().sum())\n",
    "print('Number of incorrectly named countries relative to original dataset:', check_match)"
   ]
  },
  {
   "cell_type": "code",
   "execution_count": 46,
   "metadata": {
    "Collapsed": "false"
   },
   "outputs": [
    {
     "data": {
      "text/html": [
       "<div>\n",
       "<style scoped>\n",
       "    .dataframe tbody tr th:only-of-type {\n",
       "        vertical-align: middle;\n",
       "    }\n",
       "\n",
       "    .dataframe tbody tr th {\n",
       "        vertical-align: top;\n",
       "    }\n",
       "\n",
       "    .dataframe thead th {\n",
       "        text-align: right;\n",
       "    }\n",
       "</style>\n",
       "<table border=\"1\" class=\"dataframe\">\n",
       "  <thead>\n",
       "    <tr style=\"text-align: right;\">\n",
       "      <th></th>\n",
       "      <th>country</th>\n",
       "      <th>log_type</th>\n",
       "      <th>category</th>\n",
       "      <th>measure</th>\n",
       "      <th>comment</th>\n",
       "      <th>date</th>\n",
       "    </tr>\n",
       "  </thead>\n",
       "  <tbody>\n",
       "    <tr>\n",
       "      <th>0</th>\n",
       "      <td>Afghanistan</td>\n",
       "      <td>Introduction / extension of measures</td>\n",
       "      <td>Public health measures</td>\n",
       "      <td>Health screenings in airports and border cross...</td>\n",
       "      <td>NaN</td>\n",
       "      <td>2020-02-12</td>\n",
       "    </tr>\n",
       "    <tr>\n",
       "      <th>1</th>\n",
       "      <td>Afghanistan</td>\n",
       "      <td>Introduction / extension of measures</td>\n",
       "      <td>Public health measures</td>\n",
       "      <td>Isolation and quarantine policies</td>\n",
       "      <td>NaN</td>\n",
       "      <td>2020-02-12</td>\n",
       "    </tr>\n",
       "    <tr>\n",
       "      <th>2</th>\n",
       "      <td>Afghanistan</td>\n",
       "      <td>Introduction / extension of measures</td>\n",
       "      <td>Public health measures</td>\n",
       "      <td>Awareness campaigns</td>\n",
       "      <td>NaN</td>\n",
       "      <td>2020-02-12</td>\n",
       "    </tr>\n",
       "    <tr>\n",
       "      <th>3</th>\n",
       "      <td>Afghanistan</td>\n",
       "      <td>Introduction / extension of measures</td>\n",
       "      <td>Governance and socio-economic measures</td>\n",
       "      <td>Emergency administrative structures activated ...</td>\n",
       "      <td>NaN</td>\n",
       "      <td>2020-02-12</td>\n",
       "    </tr>\n",
       "    <tr>\n",
       "      <th>4</th>\n",
       "      <td>Afghanistan</td>\n",
       "      <td>Introduction / extension of measures</td>\n",
       "      <td>Social distancing</td>\n",
       "      <td>Limit public gatherings</td>\n",
       "      <td>Nevruz festival cancelled</td>\n",
       "      <td>2020-03-12</td>\n",
       "    </tr>\n",
       "    <tr>\n",
       "      <th>...</th>\n",
       "      <td>...</td>\n",
       "      <td>...</td>\n",
       "      <td>...</td>\n",
       "      <td>...</td>\n",
       "      <td>...</td>\n",
       "      <td>...</td>\n",
       "    </tr>\n",
       "    <tr>\n",
       "      <th>17872</th>\n",
       "      <td>Zimbabwe</td>\n",
       "      <td>Introduction / extension of measures</td>\n",
       "      <td>Movement restrictions</td>\n",
       "      <td>Surveillance and monitoring</td>\n",
       "      <td>Everyone transiting through Zimbabwe should ha...</td>\n",
       "      <td>2020-06-09</td>\n",
       "    </tr>\n",
       "    <tr>\n",
       "      <th>17873</th>\n",
       "      <td>Zimbabwe</td>\n",
       "      <td>Phase-out measure</td>\n",
       "      <td>Social distancing</td>\n",
       "      <td>Schools closure</td>\n",
       "      <td>the re-opening of schools be moved from the pr...</td>\n",
       "      <td>2020-07-28</td>\n",
       "    </tr>\n",
       "    <tr>\n",
       "      <th>17874</th>\n",
       "      <td>Zimbabwe</td>\n",
       "      <td>Introduction / extension of measures</td>\n",
       "      <td>Movement restrictions</td>\n",
       "      <td>Surveillance and monitoring</td>\n",
       "      <td>Identification/travel documents of returness w...</td>\n",
       "      <td>2020-06-09</td>\n",
       "    </tr>\n",
       "    <tr>\n",
       "      <th>17875</th>\n",
       "      <td>Zimbabwe</td>\n",
       "      <td>Phase-out measure</td>\n",
       "      <td>Social distancing</td>\n",
       "      <td>Closure of businesses and public services</td>\n",
       "      <td>Restaurants now allowed to serve sit-in meals ...</td>\n",
       "      <td>2020-06-30</td>\n",
       "    </tr>\n",
       "    <tr>\n",
       "      <th>17876</th>\n",
       "      <td>Zimbabwe</td>\n",
       "      <td>Phase-out measure</td>\n",
       "      <td>Social distancing</td>\n",
       "      <td>Closure of businesses and public services</td>\n",
       "      <td>Safari Operators for local hunting only and Na...</td>\n",
       "      <td>2020-06-30</td>\n",
       "    </tr>\n",
       "  </tbody>\n",
       "</table>\n",
       "<p>17231 rows × 6 columns</p>\n",
       "</div>"
      ],
      "text/plain": [
       "           country                              log_type  \\\n",
       "0      Afghanistan  Introduction / extension of measures   \n",
       "1      Afghanistan  Introduction / extension of measures   \n",
       "2      Afghanistan  Introduction / extension of measures   \n",
       "3      Afghanistan  Introduction / extension of measures   \n",
       "4      Afghanistan  Introduction / extension of measures   \n",
       "...            ...                                   ...   \n",
       "17872     Zimbabwe  Introduction / extension of measures   \n",
       "17873     Zimbabwe                     Phase-out measure   \n",
       "17874     Zimbabwe  Introduction / extension of measures   \n",
       "17875     Zimbabwe                     Phase-out measure   \n",
       "17876     Zimbabwe                     Phase-out measure   \n",
       "\n",
       "                                     category  \\\n",
       "0                      Public health measures   \n",
       "1                      Public health measures   \n",
       "2                      Public health measures   \n",
       "3      Governance and socio-economic measures   \n",
       "4                           Social distancing   \n",
       "...                                       ...   \n",
       "17872                   Movement restrictions   \n",
       "17873                       Social distancing   \n",
       "17874                   Movement restrictions   \n",
       "17875                       Social distancing   \n",
       "17876                       Social distancing   \n",
       "\n",
       "                                                 measure  \\\n",
       "0      Health screenings in airports and border cross...   \n",
       "1                      Isolation and quarantine policies   \n",
       "2                                    Awareness campaigns   \n",
       "3      Emergency administrative structures activated ...   \n",
       "4                                Limit public gatherings   \n",
       "...                                                  ...   \n",
       "17872                        Surveillance and monitoring   \n",
       "17873                                    Schools closure   \n",
       "17874                        Surveillance and monitoring   \n",
       "17875          Closure of businesses and public services   \n",
       "17876          Closure of businesses and public services   \n",
       "\n",
       "                                                 comment        date  \n",
       "0                                                    NaN  2020-02-12  \n",
       "1                                                    NaN  2020-02-12  \n",
       "2                                                    NaN  2020-02-12  \n",
       "3                                                    NaN  2020-02-12  \n",
       "4                              Nevruz festival cancelled  2020-03-12  \n",
       "...                                                  ...         ...  \n",
       "17872  Everyone transiting through Zimbabwe should ha...  2020-06-09  \n",
       "17873  the re-opening of schools be moved from the pr...  2020-07-28  \n",
       "17874  Identification/travel documents of returness w...  2020-06-09  \n",
       "17875  Restaurants now allowed to serve sit-in meals ...  2020-06-30  \n",
       "17876  Safari Operators for local hunting only and Na...  2020-06-30  \n",
       "\n",
       "[17231 rows x 6 columns]"
      ]
     },
     "execution_count": 46,
     "metadata": {},
     "output_type": "execute_result"
    }
   ],
   "source": [
    "data.columns = ['country', 'log_type', 'category', 'measure', 'comment', 'date']\n",
    "data['date'] = pd.to_datetime(data['date']).dt.strftime('%Y-%m-%d') \n",
    "data.to_csv('generated/governments-measures.csv', index=False)\n",
    "data"
   ]
  }
 ],
 "metadata": {
  "kernelspec": {
   "display_name": "Python 3",
   "language": "python",
   "name": "python3"
  },
  "language_info": {
   "codemirror_mode": {
    "name": "ipython",
    "version": 3
   },
   "file_extension": ".py",
   "mimetype": "text/x-python",
   "name": "python",
   "nbconvert_exporter": "python",
   "pygments_lexer": "ipython3",
   "version": "3.8.5"
  }
 },
 "nbformat": 4,
 "nbformat_minor": 4
}
